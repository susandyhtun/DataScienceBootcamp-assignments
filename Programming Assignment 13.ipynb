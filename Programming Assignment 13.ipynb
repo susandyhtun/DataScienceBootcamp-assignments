{
 "cells": [
  {
   "cell_type": "code",
   "execution_count": 9,
   "id": "3bbb6d20",
   "metadata": {},
   "outputs": [
    {
     "name": "stdout",
     "output_type": "stream",
     "text": [
      "Enter the values with comma in-between.100,150,180\n",
      "18\n",
      "22\n",
      "24\n"
     ]
    }
   ],
   "source": [
    "# 1\n",
    "\n",
    "import math\n",
    "\n",
    "C = 50\n",
    "H = 30\n",
    "\n",
    "D = input(\"Enter the values with comma in-between.\")\n",
    "D = [int(i) for i in D.split(',')]\n",
    "\n",
    "for value in D:\n",
    "    Q = math.sqrt( (2*C* value)/ H)\n",
    "    print(int(Q))"
   ]
  },
  {
   "cell_type": "code",
   "execution_count": 10,
   "id": "68d1ba8e",
   "metadata": {},
   "outputs": [
    {
     "name": "stdout",
     "output_type": "stream",
     "text": [
      "Enter a number for X3\n",
      "Enter a number for Y5\n",
      "[[0. 0. 0. 0. 0.]\n",
      " [0. 1. 2. 3. 4.]\n",
      " [0. 2. 4. 6. 8.]]\n"
     ]
    }
   ],
   "source": [
    "# 2\n",
    "\n",
    "import numpy as np\n",
    "\n",
    "X = int(input(\"Enter a number for X\"))\n",
    "Y = int(input(\"Enter a number for Y\"))\n",
    "\n",
    "result = np.zeros((X,Y))\n",
    "\n",
    "for i in range(X):\n",
    "    for j in range(Y):\n",
    "        result[i,j] = i*j\n",
    "\n",
    "print(result)"
   ]
  },
  {
   "cell_type": "code",
   "execution_count": 20,
   "id": "c17b36a5",
   "metadata": {},
   "outputs": [
    {
     "name": "stdout",
     "output_type": "stream",
     "text": [
      "enter the wordswithout,hello,bag,world\n",
      "bag, hello, without, world\n"
     ]
    }
   ],
   "source": [
    "# 3\n",
    "\n",
    "my_str = input(\"enter the words\")\n",
    "my_list = [i for i in my_str.split(\",\")]\n",
    "\n",
    "my_list.sort()\n",
    "\n",
    "print(\", \".join(my_list))"
   ]
  },
  {
   "cell_type": "code",
   "execution_count": 27,
   "id": "09cb5473",
   "metadata": {},
   "outputs": [
    {
     "name": "stdout",
     "output_type": "stream",
     "text": [
      "enter a stringhello world and practice makes perfect and hello world again\n",
      "again and hello makes perfect practice world\n"
     ]
    }
   ],
   "source": [
    "# 4\n",
    "\n",
    "my_str = input(\"enter a string\")\n",
    "my_set = set([i for i in my_str.split()])\n",
    "\n",
    "my_set = sorted(my_set)\n",
    "\n",
    "print(\" \".join(my_set))"
   ]
  },
  {
   "cell_type": "code",
   "execution_count": 28,
   "id": "e0aabd55",
   "metadata": {},
   "outputs": [
    {
     "name": "stdout",
     "output_type": "stream",
     "text": [
      "enter a stringhello world! 123\n",
      "LETTERS 10\n",
      "DIGITS 3\n"
     ]
    }
   ],
   "source": [
    "# 5\n",
    "\n",
    "my_str = input(\"enter a string\")\n",
    "\n",
    "letter = 0\n",
    "digit = 0\n",
    "\n",
    "for i in my_str:\n",
    "    if i.isdigit():\n",
    "        digit+=1\n",
    "    elif i.isalpha():\n",
    "        letter+=1\n",
    "\n",
    "print(\"LETTERS {}\".format(letter))\n",
    "print(\"DIGITS {}\".format(digit))"
   ]
  },
  {
   "cell_type": "code",
   "execution_count": 38,
   "id": "6d6e73ee",
   "metadata": {},
   "outputs": [
    {
     "name": "stdout",
     "output_type": "stream",
     "text": [
      "Enter the passwordsABd1234@1,a F1#,2w3E*,2We3345\n",
      "ABd1234@1\n"
     ]
    }
   ],
   "source": [
    "# 6\n",
    "import re\n",
    "\n",
    "passwords = input(\"Enter the passwords\")\n",
    "pw_list = [i for i in passwords.split(\",\")]\n",
    "\n",
    "check = 0\n",
    "\n",
    "for pw in pw_list:\n",
    "    if len(pw) >= 6 and len(pw) <= 12:\n",
    "        if not re.search(\"[a-z]\", pw):\n",
    "            break\n",
    "        elif not re.search(\"[A-Z]\", pw):\n",
    "            break\n",
    "        elif not re.search(\"[0-9]\",pw):\n",
    "            break\n",
    "        elif not re.search(\"[$#@]\",pw):\n",
    "            break\n",
    "        else:\n",
    "            print(pw)\n",
    "        \n",
    "    else: \n",
    "        continue\n",
    "        "
   ]
  },
  {
   "cell_type": "code",
   "execution_count": null,
   "id": "496788d0",
   "metadata": {},
   "outputs": [],
   "source": []
  }
 ],
 "metadata": {
  "kernelspec": {
   "display_name": "Python 3",
   "language": "python",
   "name": "python3"
  },
  "language_info": {
   "codemirror_mode": {
    "name": "ipython",
    "version": 3
   },
   "file_extension": ".py",
   "mimetype": "text/x-python",
   "name": "python",
   "nbconvert_exporter": "python",
   "pygments_lexer": "ipython3",
   "version": "3.8.8"
  }
 },
 "nbformat": 4,
 "nbformat_minor": 5
}
