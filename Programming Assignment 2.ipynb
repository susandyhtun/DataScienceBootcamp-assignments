{
 "cells": [
  {
   "cell_type": "code",
   "execution_count": 2,
   "id": "ba771667",
   "metadata": {},
   "outputs": [
    {
     "name": "stdout",
     "output_type": "stream",
     "text": [
      "enter a number23\n",
      "The distance in miles is 14.26\n"
     ]
    }
   ],
   "source": [
    "# Converting kilometers to miles\n",
    "\n",
    "km = float(input(\"enter a number\"))\n",
    "mile = km * 0.62\n",
    "print(\"The distance in miles is {}\".format(mile))"
   ]
  },
  {
   "cell_type": "code",
   "execution_count": 4,
   "id": "b05a9ddb",
   "metadata": {},
   "outputs": [
    {
     "name": "stdout",
     "output_type": "stream",
     "text": [
      "enter the temperature in Celsius37.7\n",
      "The temperature in Fahrenheit is 99.86000000000001\n"
     ]
    }
   ],
   "source": [
    "# converting celsius to fahrenheit\n",
    "\n",
    "celsius = float(input(\"enter the temperature in Celsius\"))\n",
    "fah = (celsius * 1.8) + 32\n",
    "print(\"The temperature in Fahrenheit is {}\".format(fah))"
   ]
  },
  {
   "cell_type": "code",
   "execution_count": 7,
   "id": "5860d642",
   "metadata": {},
   "outputs": [
    {
     "name": "stdout",
     "output_type": "stream",
     "text": [
      "enter the year2022\n",
      "enter the month5\n",
      "      May 2022\n",
      "Mo Tu We Th Fr Sa Su\n",
      "                   1\n",
      " 2  3  4  5  6  7  8\n",
      " 9 10 11 12 13 14 15\n",
      "16 17 18 19 20 21 22\n",
      "23 24 25 26 27 28 29\n",
      "30 31\n",
      "\n"
     ]
    }
   ],
   "source": [
    "# Displaying calendar\n",
    "\n",
    "import calendar\n",
    "\n",
    "year = int(input(\"enter the year\"))\n",
    "month = int(input(\"enter the month\"))\n",
    "\n",
    "print(calendar.month(year, month))"
   ]
  },
  {
   "cell_type": "code",
   "execution_count": 12,
   "id": "542a3731",
   "metadata": {},
   "outputs": [
    {
     "name": "stdout",
     "output_type": "stream",
     "text": [
      "Let's say we have an equation of the form: ax^2 + bx + c = 0\n",
      "enter your value of a1\n",
      "enter your value of b5\n",
      "enter your value of c6\n",
      "The answers are -2.0 and -3.0\n"
     ]
    }
   ],
   "source": [
    "# Solving Quadratic Equation\n",
    "import math\n",
    "\n",
    "print(\"Let's say we have an equation of the form: ax^2 + bx + c = 0\")\n",
    "a = float(input(\"enter your value of a\"))\n",
    "b = float(input(\"enter your value of b\"))\n",
    "c = float(input(\"enter your value of c\"))\n",
    "\n",
    "x1 = (-b + math.sqrt(b*b - 4*a*c))/ (2*a)\n",
    "x2 = (-b - math.sqrt(b*b - 4*a*c))/ (2*a)\n",
    "\n",
    "print(\"The answers are {} and {}\".format(x1,x2))"
   ]
  },
  {
   "cell_type": "code",
   "execution_count": 13,
   "id": "8a0773ca",
   "metadata": {},
   "outputs": [
    {
     "name": "stdout",
     "output_type": "stream",
     "text": [
      "222\n",
      "111\n"
     ]
    }
   ],
   "source": [
    "# swapping two variables without temp\n",
    "\n",
    "a = 111\n",
    "b = 222\n",
    "\n",
    "a, b = b, a\n",
    "\n",
    "print(a)\n",
    "print(b)"
   ]
  },
  {
   "cell_type": "code",
   "execution_count": null,
   "id": "774a30ed",
   "metadata": {},
   "outputs": [],
   "source": []
  }
 ],
 "metadata": {
  "kernelspec": {
   "display_name": "Python 3",
   "language": "python",
   "name": "python3"
  },
  "language_info": {
   "codemirror_mode": {
    "name": "ipython",
    "version": 3
   },
   "file_extension": ".py",
   "mimetype": "text/x-python",
   "name": "python",
   "nbconvert_exporter": "python",
   "pygments_lexer": "ipython3",
   "version": "3.8.8"
  }
 },
 "nbformat": 4,
 "nbformat_minor": 5
}
