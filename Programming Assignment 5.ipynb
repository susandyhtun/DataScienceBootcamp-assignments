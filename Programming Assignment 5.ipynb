{
 "cells": [
  {
   "cell_type": "markdown",
   "id": "89662f38",
   "metadata": {},
   "source": [
    "## 1. Finding LCM (Least Common Multiple) for two given numbers"
   ]
  },
  {
   "cell_type": "code",
   "execution_count": 10,
   "id": "fdfd6da8",
   "metadata": {},
   "outputs": [
    {
     "name": "stdout",
     "output_type": "stream",
     "text": [
      "Enter the first number30\n",
      "Enter the second number45\n",
      "The LCM of 30 and 45 is 90\n"
     ]
    }
   ],
   "source": [
    "\n",
    "num1 = int(input(\"Enter the first number\"))\n",
    "num2 = int(input(\"Enter the second number\"))\n",
    "a = []\n",
    "b = []\n",
    "\n",
    "for i in range(1,101):   # here, i assume that we can find LCM between two numbers within the 100 multiples.\n",
    "    a.append(num1*i)\n",
    "    b.append(num2*i)\n",
    "    common = list(set(a) & set(b))\n",
    "    if common:\n",
    "        print(\"The LCM of {} and {} is {}\".format(num1, num2,common[0]))\n",
    "        break"
   ]
  },
  {
   "cell_type": "markdown",
   "id": "5ce3612a",
   "metadata": {},
   "source": [
    "## 2. Finding HCF (Highest Common Factor) for two given numbers"
   ]
  },
  {
   "cell_type": "code",
   "execution_count": 39,
   "id": "bb326e5e",
   "metadata": {},
   "outputs": [
    {
     "name": "stdout",
     "output_type": "stream",
     "text": [
      "Enter the first number18\n",
      "Enter the second number54\n",
      "The HCF of 18 and 54 is 18\n"
     ]
    }
   ],
   "source": [
    "\n",
    "num1 = int(input(\"Enter the first number\"))\n",
    "num2 = int(input(\"Enter the second number\"))\n",
    "a = []\n",
    "b = []\n",
    "\n",
    "for i in range (1,num1+1):\n",
    "    if (num1%i ==0):\n",
    "        a.append(i)\n",
    "\n",
    "for i in range (1,num2+1):\n",
    "    if (num2%i ==0):\n",
    "        b.append(i)\n",
    "\n",
    "common = list(set(a) & set(b))\n",
    "common.sort()\n",
    "\n",
    "print(\"The HCF of {} and {} is {}\".format(num1, num2, common[-1]))\n"
   ]
  },
  {
   "cell_type": "markdown",
   "id": "b8cf09b8",
   "metadata": {},
   "source": [
    "## 2|a| This is an alternative way to find HCF (where user can find HCF of more than two numbers)"
   ]
  },
  {
   "cell_type": "code",
   "execution_count": 64,
   "id": "b8d53c67",
   "metadata": {},
   "outputs": [
    {
     "name": "stdout",
     "output_type": "stream",
     "text": [
      "enter the number24\n",
      "enter the number36\n",
      "enter the number48\n",
      "The HCF of all given numbers is 12\n"
     ]
    }
   ],
   "source": [
    "\n",
    "def HCF(count):\n",
    "    dicta={}\n",
    "    # taking in the numbers\n",
    "    for i in range(count):\n",
    "        keya = int(input(\"enter the number\"))\n",
    "        dicta[keya] = []\n",
    "        \n",
    "    # finding the factors of each number and appending them as values in the dictionary\n",
    "    for k in dicta.keys():\n",
    "        for j in range(1, k+1):\n",
    "            if (k%j == 0):\n",
    "                dicta[k].append(j)\n",
    "    \n",
    "    value_list = list(dicta.values())\n",
    "    \n",
    "    # binary comparison and search for common factors\n",
    "    v = 0\n",
    "    while v < len(value_list)-1:\n",
    "        common = list(set(value_list[v]) & set(value_list[v+1]))\n",
    "        v += 1\n",
    "    else:\n",
    "        common.sort()\n",
    "        print(\"The HCF of all given numbers is {}\".format(common[-1]))\n",
    "\n",
    "# Let's find HCF among 3 numbers        \n",
    "HCF(3)"
   ]
  },
  {
   "cell_type": "markdown",
   "id": "71fe6964",
   "metadata": {},
   "source": [
    "## 3. Converting Decimal to Binary, Octal and Hexadecimal"
   ]
  },
  {
   "cell_type": "code",
   "execution_count": 33,
   "id": "cd83a713",
   "metadata": {},
   "outputs": [
    {
     "name": "stdout",
     "output_type": "stream",
     "text": [
      "Enter a number765\n",
      "The Binary number is 1011111101\n",
      "The Octal number is 1375\n",
      "The Hexadecimal number is 2FD\n"
     ]
    }
   ],
   "source": [
    "def Bi(num):\n",
    "    binary_list=[]\n",
    "    while (num // 2 >= 0 and num != 0) :\n",
    "        binary_list.append(num%2)\n",
    "        num = num // 2\n",
    "    binary = binary_list[::-1]\n",
    "    print(\"The Binary number is {}\".format(''.join(str(e) for e in binary)))\n",
    "\n",
    "def Oct(num):\n",
    "    octal_list=[]\n",
    "    while (num // 8 >= 0 and num != 0):\n",
    "        octal_list.append(num%8)\n",
    "        num = num // 8\n",
    "    octal = octal_list[::-1]\n",
    "    print(\"The Octal number is {}\".format(''.join(str(e) for e in octal)))\n",
    "    \n",
    "def Hexa(num):\n",
    "    hexa_list=[]\n",
    "    remainder = {10:'A', 11:'B', 12:'C', 13:'D', 14:'E', 15:'F'}\n",
    "    while (num // 16 >= 0 and num != 0):\n",
    "        if num%16 in [10, 11,12,13,14,15]:\n",
    "            hexa_list.append(remainder[num%16])\n",
    "        else:\n",
    "            hexa_list.append(num%16)\n",
    "        num = num // 16\n",
    "    hexa = hexa_list[::-1]\n",
    "    print(\"The Hexadecimal number is {}\".format(''.join(str(e) for e in hexa)))\n",
    "    \n",
    "num = int(input(\"Enter a number\"))\n",
    "Bi(num)\n",
    "Oct(num)\n",
    "Hexa(num)"
   ]
  },
  {
   "cell_type": "markdown",
   "id": "c5805ef9",
   "metadata": {},
   "source": [
    "## 4. Finding ASCII value of a character"
   ]
  },
  {
   "cell_type": "code",
   "execution_count": 36,
   "id": "4d64686b",
   "metadata": {},
   "outputs": [
    {
     "name": "stdout",
     "output_type": "stream",
     "text": [
      "Enter a wordcat\n",
      "The ASCII value of c is 99\n",
      "The ASCII value of a is 97\n",
      "The ASCII value of t is 116\n"
     ]
    }
   ],
   "source": [
    "word = input(\"Enter a word\")\n",
    "for i in word:\n",
    "    print(\"The ASCII value of {} is {}\".format(i, ord(i)))"
   ]
  },
  {
   "cell_type": "markdown",
   "id": "654c4308",
   "metadata": {},
   "source": [
    "## 5. Simple Calculator"
   ]
  },
  {
   "cell_type": "code",
   "execution_count": 56,
   "id": "4939c939",
   "metadata": {},
   "outputs": [
    {
     "name": "stdout",
     "output_type": "stream",
     "text": [
      "What type of calculation do you want to do?\n",
      "Enter 'a' for addition, 's' for subtraction, 'm' for multiplication and 'd' for divisions\n",
      "Please note that the order of the numbers matters for subtraction and division.\n",
      "enter the first number454.676\n",
      "enter the second number24353.676\n",
      "The result is -23899.0\n"
     ]
    }
   ],
   "source": [
    "# calculator function\n",
    "def calculator(num1, num2, mode):\n",
    "    if mode == 'a':\n",
    "        return num1+num2\n",
    "    elif mode == 's':\n",
    "        return num1-num2\n",
    "    elif mode == 'm':\n",
    "        return num1*num2\n",
    "    elif mode == 'd':\n",
    "        try:\n",
    "            return num1/num2\n",
    "        except:\n",
    "            print(\"The operation failed. Please try again.\")\n",
    "\n",
    "# asking the calculation mode\n",
    "mode = input(\"What type of calculation do you want to do?\\nEnter 'a' for addition, 's' for subtraction, 'm' for multiplication and 'd' for division\").lower()\n",
    "\n",
    "# returning the result\n",
    "if mode in ['a','s','m','d']:\n",
    "    if mode in ['s','d']:\n",
    "        print(\"Please note that the order of the numbers matters for subtraction and division.\")\n",
    "        \n",
    "    num1 = float(input(\"enter the first number\"))\n",
    "    num2 = float(input(\"enter the second number\"))\n",
    "    \n",
    "    print(\"The result is {}\".format(calculator(num1, num2, mode)))\n",
    "else:\n",
    "    print(\"The chosen calculation mode NOT recognized\")\n"
   ]
  },
  {
   "cell_type": "code",
   "execution_count": null,
   "id": "b8560c1e",
   "metadata": {},
   "outputs": [],
   "source": []
  }
 ],
 "metadata": {
  "kernelspec": {
   "display_name": "Python 3",
   "language": "python",
   "name": "python3"
  },
  "language_info": {
   "codemirror_mode": {
    "name": "ipython",
    "version": 3
   },
   "file_extension": ".py",
   "mimetype": "text/x-python",
   "name": "python",
   "nbconvert_exporter": "python",
   "pygments_lexer": "ipython3",
   "version": "3.8.8"
  }
 },
 "nbformat": 4,
 "nbformat_minor": 5
}
