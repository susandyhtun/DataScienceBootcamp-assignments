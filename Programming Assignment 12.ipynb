{
 "cells": [
  {
   "cell_type": "code",
   "execution_count": 2,
   "id": "fe520750",
   "metadata": {},
   "outputs": [
    {
     "name": "stdout",
     "output_type": "stream",
     "text": [
      "The original dictionary is : {'a': [5, 6, 7, 8], 'b': [10, 11, 7, 5], 'c': [6, 12, 10, 8], 'd': [1, 2, 5]}\n",
      "The unique values list is : [1, 2, 5, 6, 7, 8, 10, 11, 12]\n"
     ]
    }
   ],
   "source": [
    "# 1. Extract Unique values dictionary values\n",
    "\n",
    "dict_a = {'a' : [5, 6, 7, 8],\n",
    "             'b' : [10, 11, 7, 5],\n",
    "             'c' : [6, 12, 10, 8],\n",
    "             'd' : [1, 2, 5]}\n",
    "\n",
    "print(\"The original dictionary is : \" + str(dict_a))\n",
    "\n",
    "res = list({ele for val in dict_a.values() for ele in val})\n",
    "  \n",
    "print(\"The unique values list is : \" + str(res)) "
   ]
  },
  {
   "cell_type": "code",
   "execution_count": 5,
   "id": "59e3678f",
   "metadata": {},
   "outputs": [
    {
     "name": "stdout",
     "output_type": "stream",
     "text": [
      "103\n"
     ]
    }
   ],
   "source": [
    "# 2. find the sum of all items in a dictionary\n",
    "\n",
    "dict_a = {'a' : [5, 6, 7, 8],\n",
    "             'b' : [10, 11, 7, 5],\n",
    "             'c' : [6, 12, 10, 8],\n",
    "             'd' : [1, 2, 5]}\n",
    "\n",
    "sum = 0\n",
    "\n",
    "for key in dict_a.keys():\n",
    "    temp = dict_a[key].copy()\n",
    "    for i in temp:\n",
    "        sum += i \n",
    "        \n",
    "print(sum)"
   ]
  },
  {
   "cell_type": "code",
   "execution_count": 12,
   "id": "0a1e3854",
   "metadata": {},
   "outputs": [
    {
     "name": "stdout",
     "output_type": "stream",
     "text": [
      "The merged dictionary is {'a': 10, 'b': 8, 'd': 6, 'c': 4}\n"
     ]
    }
   ],
   "source": [
    "# 3. Merging two Dictionaries\n",
    "\n",
    "dict1 = {'a': 10, 'b': 8}\n",
    "dict2 = {'d': 6, 'c': 4}\n",
    "\n",
    "new_dict = {**dict1, **dict2}\n",
    " \n",
    "print(\"The merged dictionary is {}\".format(new_dict))"
   ]
  },
  {
   "cell_type": "code",
   "execution_count": 14,
   "id": "c96a158c",
   "metadata": {},
   "outputs": [
    {
     "name": "stdout",
     "output_type": "stream",
     "text": [
      "{1: 'Jan', 2: 'Feb', 3: 'March'}\n"
     ]
    }
   ],
   "source": [
    "# 4. convert key-values list to flat dictionary\n",
    "\n",
    "dict3 = {'month' : [1, 2, 3],\n",
    "        'name' : ['Jan', 'Feb', 'March']}\n",
    "\n",
    "res = dict(zip(dict3['month'], dict3['name']))\n",
    "\n",
    "print(res)"
   ]
  },
  {
   "cell_type": "code",
   "execution_count": 16,
   "id": "28ba9e56",
   "metadata": {},
   "outputs": [
    {
     "name": "stdout",
     "output_type": "stream",
     "text": [
      "OrderedDict([('manjeet', '3'), ('akshat', '1'), ('nikhil', '2')])\n"
     ]
    }
   ],
   "source": [
    "# 5. insertion at the beginning in OrderedDict\n",
    "\n",
    "from collections import OrderedDict\n",
    " \n",
    "dict4 = OrderedDict([('akshat', '1'), ('nikhil', '2')])\n",
    " \n",
    "dict4.update({'manjeet':'3'})\n",
    "dict4.move_to_end('manjeet', last = False)\n",
    " \n",
    "print(dict4)"
   ]
  },
  {
   "cell_type": "code",
   "execution_count": 17,
   "id": "e7199582",
   "metadata": {},
   "outputs": [
    {
     "name": "stdout",
     "output_type": "stream",
     "text": [
      "true\n"
     ]
    }
   ],
   "source": [
    "# 6. check order of character in string using OrderedDict()\n",
    "\n",
    "from collections import OrderedDict \n",
    "  \n",
    "def checkOrder(input, pattern): \n",
    "      \n",
    "    dict = OrderedDict.fromkeys(input) \n",
    "  \n",
    "    ptrlen = 0\n",
    "    for key,value in dict.items(): \n",
    "        if (key == pattern[ptrlen]): \n",
    "            ptrlen = ptrlen + 1\n",
    "          \n",
    "        if (ptrlen == (len(pattern))): \n",
    "            return 'true'\n",
    "  \n",
    "    return 'false'\n",
    "  \n",
    "if __name__ == \"__main__\": \n",
    "    input = 'engineers rock'\n",
    "    pattern = 'er'\n",
    "    print (checkOrder(input,pattern)) "
   ]
  },
  {
   "cell_type": "code",
   "execution_count": 18,
   "id": "ce63402b",
   "metadata": {},
   "outputs": [
    {
     "name": "stdout",
     "output_type": "stream",
     "text": [
      "at  ::  23\n",
      "hello  ::  56\n",
      "test  ::  43\n",
      "this  ::  43\n"
     ]
    }
   ],
   "source": [
    "# 7. sort Python Dictionaries by Key or Value\n",
    "\n",
    "dict5 = {\n",
    "    \"hello\": 56,\n",
    "    \"at\" : 23 ,\n",
    "    \"test\" : 43,\n",
    "    \"this\" : 43\n",
    "    }\n",
    "\n",
    "for key in sorted(dict5.keys()) :\n",
    "    print(key , \" :: \" , dict5[key])\n"
   ]
  },
  {
   "cell_type": "code",
   "execution_count": null,
   "id": "ab2c86ae",
   "metadata": {},
   "outputs": [],
   "source": []
  }
 ],
 "metadata": {
  "kernelspec": {
   "display_name": "Python 3",
   "language": "python",
   "name": "python3"
  },
  "language_info": {
   "codemirror_mode": {
    "name": "ipython",
    "version": 3
   },
   "file_extension": ".py",
   "mimetype": "text/x-python",
   "name": "python",
   "nbconvert_exporter": "python",
   "pygments_lexer": "ipython3",
   "version": "3.8.8"
  }
 },
 "nbformat": 4,
 "nbformat_minor": 5
}
