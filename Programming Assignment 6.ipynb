{
 "cells": [
  {
   "cell_type": "markdown",
   "id": "26196c95",
   "metadata": {},
   "source": [
    "## 1. Displaying Fibonacci Sequence Using Recursion"
   ]
  },
  {
   "cell_type": "code",
   "execution_count": 2,
   "id": "4c96e9ae",
   "metadata": {},
   "outputs": [
    {
     "name": "stdout",
     "output_type": "stream",
     "text": [
      "How many Fibonacci numbers to print?20\n",
      "0\n",
      "1\n",
      "1\n",
      "2\n",
      "3\n",
      "5\n",
      "8\n",
      "13\n",
      "21\n",
      "34\n",
      "55\n",
      "89\n",
      "144\n",
      "233\n",
      "377\n",
      "610\n",
      "987\n",
      "1597\n",
      "2584\n",
      "4181\n"
     ]
    }
   ],
   "source": [
    "def Fib_func(x):\n",
    "    if x in [0,1]:\n",
    "        return x\n",
    "    else:\n",
    "        return Fib_func(x-1)+Fib_func(x-2)\n",
    "\n",
    "count = int(input(\"How many Fibonacci numbers to print?\"))\n",
    "\n",
    "for i in range(count):\n",
    "    print(Fib_func(i))"
   ]
  },
  {
   "cell_type": "markdown",
   "id": "a1249f82",
   "metadata": {},
   "source": [
    "## 2. Finding Factorial of Number Using Recursion"
   ]
  },
  {
   "cell_type": "code",
   "execution_count": 3,
   "id": "c42b59d3",
   "metadata": {},
   "outputs": [
    {
     "name": "stdout",
     "output_type": "stream",
     "text": [
      "Enter a number10\n",
      "Factorial 10 is 3628800\n"
     ]
    }
   ],
   "source": [
    "def Factorial_func(x):\n",
    "    if x == 1:\n",
    "        return x\n",
    "    else:\n",
    "        return x * Factorial_func(x-1)\n",
    "\n",
    "num = int(input(\"Enter a number\"))\n",
    "print(\"Factorial {} is {}\".format(num, Factorial_func(num)))"
   ]
  },
  {
   "cell_type": "markdown",
   "id": "4156f1c5",
   "metadata": {},
   "source": [
    "## 3. Calculating the Body Mass Index"
   ]
  },
  {
   "cell_type": "code",
   "execution_count": 7,
   "id": "bde37f9f",
   "metadata": {},
   "outputs": [
    {
     "name": "stdout",
     "output_type": "stream",
     "text": [
      "Please enter your weight in kg48\n",
      "Please enter your height in cm161\n",
      "Your body mass index is 18.518.\n",
      "This is considered Normal.\n"
     ]
    }
   ],
   "source": [
    "weight = float(input(\"Please enter your weight in kg\"))\n",
    "height = float(input(\"Please enter your height in cm\"))/100\n",
    "\n",
    "bmi = weight/ (height * height)\n",
    "print(\"Your body mass index is {}.\".format(round(bmi,3)))\n",
    "\n",
    "if bmi >= 25.0:\n",
    "    print(\"This is considered Overweight.\")\n",
    "elif bmi >= 18.5 and bmi < 25:\n",
    "    print(\"This is considered Normal.\")\n",
    "else:\n",
    "    print(\"This is considered Underweight.\")\n",
    "\n"
   ]
  },
  {
   "cell_type": "markdown",
   "id": "4929d1bb",
   "metadata": {},
   "source": [
    "## 4. Finding natural logarithm of any number"
   ]
  },
  {
   "cell_type": "code",
   "execution_count": 15,
   "id": "f52ec854",
   "metadata": {},
   "outputs": [
    {
     "name": "stdout",
     "output_type": "stream",
     "text": [
      "Enter a number12\n",
      "The natural logarithm is 2.485.\n"
     ]
    }
   ],
   "source": [
    "import math\n",
    "num = float(input(\"Enter a number\"))\n",
    "print(\"The natural logarithm is {}.\".format(round(math.log(num),3)))"
   ]
  },
  {
   "cell_type": "code",
   "execution_count": 12,
   "id": "66f2ee99",
   "metadata": {},
   "outputs": [
    {
     "name": "stdout",
     "output_type": "stream",
     "text": [
      "Help on built-in function log in module math:\n",
      "\n",
      "log(...)\n",
      "    log(x, [base=math.e])\n",
      "    Return the logarithm of x to the given base.\n",
      "    \n",
      "    If the base not specified, returns the natural logarithm (base e) of x.\n",
      "\n"
     ]
    }
   ],
   "source": [
    "import math\n",
    "help(math.log)"
   ]
  },
  {
   "cell_type": "markdown",
   "id": "5627d8d0",
   "metadata": {},
   "source": [
    "## 5. Finding Cube Sum of first n Natural Numbers"
   ]
  },
  {
   "cell_type": "code",
   "execution_count": 17,
   "id": "a9ecbdc0",
   "metadata": {},
   "outputs": [
    {
     "name": "stdout",
     "output_type": "stream",
     "text": [
      "How many first natural numbers do you want to caculate?5\n",
      "The result is 225.\n"
     ]
    }
   ],
   "source": [
    "count = int(input(\"How many first natural numbers do you want to caculate?\"))\n",
    "sum = 0\n",
    "\n",
    "for i in range(1,count+1):\n",
    "    sum += pow(i,3)\n",
    "\n",
    "print(\"The result is {}.\".format(sum))"
   ]
  }
 ],
 "metadata": {
  "kernelspec": {
   "display_name": "Python 3",
   "language": "python",
   "name": "python3"
  },
  "language_info": {
   "codemirror_mode": {
    "name": "ipython",
    "version": 3
   },
   "file_extension": ".py",
   "mimetype": "text/x-python",
   "name": "python",
   "nbconvert_exporter": "python",
   "pygments_lexer": "ipython3",
   "version": "3.8.8"
  }
 },
 "nbformat": 4,
 "nbformat_minor": 5
}
