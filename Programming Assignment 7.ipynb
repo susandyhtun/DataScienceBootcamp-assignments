{
 "cells": [
  {
   "cell_type": "code",
   "execution_count": 16,
   "id": "dc1adc36",
   "metadata": {},
   "outputs": [
    {
     "name": "stdout",
     "output_type": "stream",
     "text": [
      "[[-0.65649609 -0.66259501 -1.50931803 -0.81490949  0.30028862]\n",
      " [-1.89898142 -1.10393515 -1.90071809  0.24945884 -0.96713409]]\n"
     ]
    },
    {
     "data": {
      "text/plain": [
       "-8.964339899696926"
      ]
     },
     "execution_count": 16,
     "metadata": {},
     "output_type": "execute_result"
    }
   ],
   "source": [
    "# 1. find sum of array\n",
    "\n",
    "import numpy as np\n",
    "array_a = np.random.randn(1,10).reshape((2,5))\n",
    "print(array_a)\n",
    "\n",
    "def sum_of_array(arr):\n",
    "    sum1 = 0\n",
    "    for i in range(len(arr)):\n",
    "        for j in range(arr.shape[1]):\n",
    "            sum1+= arr[i][j]\n",
    "    \n",
    "    return sum1\n",
    "\n",
    "sum_of_array(array_a)"
   ]
  },
  {
   "cell_type": "code",
   "execution_count": 18,
   "id": "db5af2b3",
   "metadata": {},
   "outputs": [
    {
     "name": "stdout",
     "output_type": "stream",
     "text": [
      "[[  3.80857376  -9.79178369 -13.48314776  -1.77227713  -3.48125682]\n",
      " [ -2.06556906  -6.08900967 -18.2167542  -10.46749469   1.4034306 ]]\n"
     ]
    },
    {
     "data": {
      "text/plain": [
       "3.8085737572620855"
      ]
     },
     "execution_count": 18,
     "metadata": {},
     "output_type": "execute_result"
    }
   ],
   "source": [
    "# 2. find largest element in an array\n",
    "\n",
    "array_a = np.random.randn(10).reshape((2,5))* 10\n",
    "print(array_a)\n",
    "\n",
    "def max_element(arr):\n",
    "    max_ele = 0\n",
    "    for i in range(len(arr)):\n",
    "        for j in range(arr.shape[1]):\n",
    "            if arr[i][j]>max_ele:\n",
    "                max_ele = arr[i][j]\n",
    "    return max_ele\n",
    "    \n",
    "max_element(array_a)"
   ]
  },
  {
   "cell_type": "code",
   "execution_count": 38,
   "id": "893f779a",
   "metadata": {},
   "outputs": [
    {
     "name": "stdout",
     "output_type": "stream",
     "text": [
      "The original array is:\n",
      "[19  9 12 11  2]\n",
      "\n",
      "enter a number between 1 and 5 for number of places to rotate.\n",
      "3\n",
      "\n",
      "The rotated array is:\n",
      "[11  2 19  9 12]\n"
     ]
    }
   ],
   "source": [
    "# 3. Array rotation\n",
    "\n",
    "array_a = np.random.randint(1,20,5)\n",
    "print(\"The original array is:\\n{}\\n\".format(array_a))\n",
    "\n",
    "n = int(input(\"enter a number between 1 and 5 for number of places to rotate.\\n\"))\n",
    "\n",
    "def rotate(arr, n):    \n",
    "    for i in range(n):\n",
    "        temp = arr[0]\n",
    "        for j in range(len(arr)-1):\n",
    "            arr[j] = arr[j+1]\n",
    "        arr[-1] = temp\n",
    "    print(\"\\nThe rotated array is:\\n{}\".format(arr))\n",
    "\n",
    "rotate(array_a, n)\n",
    "    "
   ]
  },
  {
   "cell_type": "code",
   "execution_count": 68,
   "id": "54ff450e",
   "metadata": {},
   "outputs": [
    {
     "name": "stdout",
     "output_type": "stream",
     "text": [
      "The original array is:\n",
      "[14 12 11 16 16 10 13 13  5  4]\n",
      "\n",
      "enter a number between 1 and 9 for number of elements to split.\n",
      "2\n",
      "\n",
      "The revised array is:\n",
      "[11 16 16 10 13 13  5  4 14 12]\n"
     ]
    }
   ],
   "source": [
    "# 4. Split the array and add the first part to the end\n",
    "\n",
    "array_a = np.random.randint(1,20,10)\n",
    "print(\"The original array is:\\n{}\\n\".format(array_a))\n",
    "\n",
    "n = int(input(\"enter a number between 1 and 9 for number of elements to split.\\n\"))\n",
    "\n",
    "def split_and_append(arr, n):\n",
    "    temp_arr = arr.copy()[:n]\n",
    "    arr1 = np.delete(arr, [i for i in range(n)])\n",
    "    result = np.concatenate((arr1, temp_arr), axis = 0)\n",
    "    print(\"\\nThe revised array is:\\n{}\".format(result))\n",
    "\n",
    "split_and_append(array_a, n)    \n"
   ]
  },
  {
   "cell_type": "code",
   "execution_count": 89,
   "id": "95a0d5e8",
   "metadata": {},
   "outputs": [
    {
     "name": "stdout",
     "output_type": "stream",
     "text": [
      "Monotonic\n",
      "Monotonic\n",
      "Not Monotonic\n"
     ]
    }
   ],
   "source": [
    "# 5. Checking if Monotonic\n",
    "\n",
    "array_a = [1,2,2,6]\n",
    "array_b = [10,5,4,1]\n",
    "array_c = [-1,0,-10,20]\n",
    "\n",
    "def monotonic_check(arr):\n",
    "    check = 0\n",
    "    length = len(arr)\n",
    "    \n",
    "    if arr[0]>=arr[1]:\n",
    "        for i in range(1, length-1):\n",
    "            if arr[i] < arr[i+1]:\n",
    "                print(\"Not Monotonic\")\n",
    "                break\n",
    "            else: \n",
    "                check = 1\n",
    "                \n",
    "    elif arr[0]<=arr[1]:\n",
    "        for i in range(1, length-1):\n",
    "            if arr[i] > arr[i+1]:\n",
    "                print(\"Not Monotonic\")\n",
    "                break\n",
    "            else:\n",
    "                check = 1\n",
    "                \n",
    "    if check == 1:\n",
    "        print(\"Monotonic\")\n",
    "       \n",
    "                \n",
    "    \n",
    "monotonic_check(array_a)\n",
    "monotonic_check(array_b)\n",
    "monotonic_check(array_c)\n",
    "    \n",
    "            \n",
    "            \n",
    "            \n",
    "        "
   ]
  },
  {
   "cell_type": "code",
   "execution_count": null,
   "id": "08dbca71",
   "metadata": {},
   "outputs": [],
   "source": []
  }
 ],
 "metadata": {
  "kernelspec": {
   "display_name": "Python 3",
   "language": "python",
   "name": "python3"
  },
  "language_info": {
   "codemirror_mode": {
    "name": "ipython",
    "version": 3
   },
   "file_extension": ".py",
   "mimetype": "text/x-python",
   "name": "python",
   "nbconvert_exporter": "python",
   "pygments_lexer": "ipython3",
   "version": "3.8.8"
  }
 },
 "nbformat": 4,
 "nbformat_minor": 5
}
