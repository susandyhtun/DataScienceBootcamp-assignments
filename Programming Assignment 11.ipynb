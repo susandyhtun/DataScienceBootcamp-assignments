{
 "cells": [
  {
   "cell_type": "code",
   "execution_count": 1,
   "id": "2bc2f127",
   "metadata": {},
   "outputs": [
    {
     "name": "stdout",
     "output_type": "stream",
     "text": [
      "Enter the length of word5\n",
      "strawberry\n",
      "durian\n",
      "coconut\n"
     ]
    }
   ],
   "source": [
    "# 1. find words which are greater than given length k\n",
    "\n",
    "fruits = ['apple', 'mango','strawberry','durian', 'coconut','grape']\n",
    "length = int(input(\"Enter the length of word\"))\n",
    "\n",
    "for i in fruits:\n",
    "    if len(i) > length:\n",
    "        print(i)"
   ]
  },
  {
   "cell_type": "code",
   "execution_count": 8,
   "id": "7c6c4d8a",
   "metadata": {},
   "outputs": [
    {
     "name": "stdout",
     "output_type": "stream",
     "text": [
      "position of the character?5\n",
      "I fee like I owe you some money.\n"
     ]
    }
   ],
   "source": [
    "# 2. removing i-th character from a string\n",
    "\n",
    "my_str = \"I feel like I owe you some money.\"\n",
    "\n",
    "position = int(input('position of the character?'))\n",
    "\n",
    "my_str = my_str.replace(my_str[position], \"\", 1)\n",
    "print(my_str)"
   ]
  },
  {
   "cell_type": "code",
   "execution_count": 10,
   "id": "54a75601",
   "metadata": {},
   "outputs": [
    {
     "name": "stdout",
     "output_type": "stream",
     "text": [
      "['I', 'have', 'an', 'apple']\n",
      "I-have-an-apple\n"
     ]
    }
   ],
   "source": [
    "# 3. split and join a string\n",
    "\n",
    "str_ = \"I have an apple\"\n",
    "print(str_.split())\n",
    "print(\"-\".join(str_.split()))"
   ]
  },
  {
   "cell_type": "code",
   "execution_count": 23,
   "id": "614b1b52",
   "metadata": {},
   "outputs": [
    {
     "name": "stdout",
     "output_type": "stream",
     "text": [
      "It's a Binary string\n"
     ]
    }
   ],
   "source": [
    "# 4. check if a given string is binary string or not\n",
    "\n",
    "str_a = '01010111'\n",
    "str_b = 'apple'\n",
    "B = ['0','1']\n",
    "check = 0\n",
    "\n",
    "def check_binary(strr):\n",
    "    str_list = [i for i in strr]\n",
    "    for j in str_list:\n",
    "        if j not in B:\n",
    "            print(\"NOT a Binary string\")\n",
    "            break\n",
    "        else:\n",
    "            check = 1\n",
    "\n",
    "    if check == 1:\n",
    "        print(\"It's a Binary string\")\n",
    "\n",
    "    \n",
    "check_binary(str_a)\n"
   ]
  },
  {
   "cell_type": "code",
   "execution_count": 26,
   "id": "7eb3c0e0",
   "metadata": {},
   "outputs": [
    {
     "name": "stdout",
     "output_type": "stream",
     "text": [
      "The uncommon words are : {'apple.', 'banana.', 'a', 'an'}\n"
     ]
    }
   ],
   "source": [
    "# 5. find uncommon words from two Strings\n",
    "\n",
    "str_a = \"I have an apple.\"\n",
    "str_b = \"I have a banana.\"\n",
    "\n",
    "setA = {i for i in str_a.split()}\n",
    "setB = {i for i in str_b.split()}\n",
    "\n",
    "print(\"The uncommon words are : {}\".format((setA-setB) |(setB-setA)))"
   ]
  },
  {
   "cell_type": "code",
   "execution_count": 28,
   "id": "d6c6abef",
   "metadata": {},
   "outputs": [
    {
     "name": "stdout",
     "output_type": "stream",
     "text": [
      "Enter a word (without spaces)Wednesday\n",
      "The duplicate characters are: \n",
      "e\n",
      "d\n"
     ]
    }
   ],
   "source": [
    "# 6. find all duplicate characters in string\n",
    "\n",
    "my_str = input(\"Enter a word (without spaces)\")\n",
    "\n",
    "str_dict = {}\n",
    "\n",
    "for i in my_str:\n",
    "    if i in str_dict.keys():\n",
    "        str_dict[i] += 1\n",
    "    else:\n",
    "        str_dict[i] = 1\n",
    "\n",
    "print(\"The duplicate characters are: \")\n",
    "for key in str_dict.keys():\n",
    "    if str_dict[key] > 1:\n",
    "        print(key)\n",
    "        \n"
   ]
  },
  {
   "cell_type": "code",
   "execution_count": 31,
   "id": "f8fb90ba",
   "metadata": {},
   "outputs": [
    {
     "name": "stdout",
     "output_type": "stream",
     "text": [
      "Contains special character\n"
     ]
    }
   ],
   "source": [
    "# 7. check if a string contains any special character\n",
    "\n",
    "str_b = \"c0c@nut\"\n",
    "\n",
    "s='[@_!#$%^&*()<>?/\\|}{~:]'\n",
    "check = 0\n",
    "\n",
    "def check(strr):\n",
    "    for i in range(len(strr)):\n",
    "        if strr[i] in s:\n",
    "            print(\"Contains special character\")\n",
    "            break\n",
    "    \n",
    "check(str_b)"
   ]
  },
  {
   "cell_type": "code",
   "execution_count": null,
   "id": "2090edcb",
   "metadata": {},
   "outputs": [],
   "source": []
  }
 ],
 "metadata": {
  "kernelspec": {
   "display_name": "Python 3",
   "language": "python",
   "name": "python3"
  },
  "language_info": {
   "codemirror_mode": {
    "name": "ipython",
    "version": 3
   },
   "file_extension": ".py",
   "mimetype": "text/x-python",
   "name": "python",
   "nbconvert_exporter": "python",
   "pygments_lexer": "ipython3",
   "version": "3.8.8"
  }
 },
 "nbformat": 4,
 "nbformat_minor": 5
}
