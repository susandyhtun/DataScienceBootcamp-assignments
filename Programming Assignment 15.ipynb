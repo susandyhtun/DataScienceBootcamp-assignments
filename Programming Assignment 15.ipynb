{
 "cells": [
  {
   "cell_type": "code",
   "execution_count": 2,
   "id": "f5da8741",
   "metadata": {},
   "outputs": [
    {
     "name": "stdout",
     "output_type": "stream",
     "text": [
      "Enter a number100\n",
      "0,35,70\n"
     ]
    }
   ],
   "source": [
    "#1\n",
    "\n",
    "n = int(input(\"Enter a number\"))\n",
    "listA = []\n",
    "\n",
    "for i in range(n):\n",
    "    if i%5==0 and i%7==0:\n",
    "        listA.append(i)\n",
    "\n",
    "print(*listA, sep=',')"
   ]
  },
  {
   "cell_type": "code",
   "execution_count": 3,
   "id": "88355d95",
   "metadata": {},
   "outputs": [
    {
     "name": "stdout",
     "output_type": "stream",
     "text": [
      "Enter a number10\n",
      "0,2,4,6,8\n"
     ]
    }
   ],
   "source": [
    "#2\n",
    "\n",
    "n = int(input(\"Enter a number\"))\n",
    "listA = []\n",
    "\n",
    "for i in range(n):\n",
    "    if i%2==0:\n",
    "        listA.append(i)\n",
    "\n",
    "print(*listA, sep=',')"
   ]
  },
  {
   "cell_type": "code",
   "execution_count": 11,
   "id": "a38c1326",
   "metadata": {},
   "outputs": [
    {
     "name": "stdout",
     "output_type": "stream",
     "text": [
      "Enter a number7\n",
      "0,1,1,2,3,5,8\n"
     ]
    }
   ],
   "source": [
    "#3\n",
    "\n",
    "n = int(input(\"Enter a number\"))\n",
    "listA = [0,1]\n",
    "for i in range(2,n):\n",
    "    listA.append(listA[i-2]+listA[i-1])\n",
    "\n",
    "print(*listA, sep=',')"
   ]
  },
  {
   "cell_type": "code",
   "execution_count": 12,
   "id": "39f358d5",
   "metadata": {},
   "outputs": [
    {
     "name": "stdout",
     "output_type": "stream",
     "text": [
      "enter an email addressjohn@google.com\n",
      "john\n"
     ]
    }
   ],
   "source": [
    "#4\n",
    "\n",
    "email = input('enter an email address')\n",
    "\n",
    "listA = [i for i in email.split('@')]\n",
    "print(listA[0])"
   ]
  },
  {
   "cell_type": "code",
   "execution_count": 13,
   "id": "14e9c923",
   "metadata": {},
   "outputs": [
    {
     "name": "stdout",
     "output_type": "stream",
     "text": [
      "9\n"
     ]
    }
   ],
   "source": [
    "#5\n",
    "\n",
    "class Shape(object):\n",
    "    def __init__(self):\n",
    "        pass\n",
    "\n",
    "    def area(self):\n",
    "        return 0\n",
    "\n",
    "class Square(Shape):\n",
    "    def __init__(self, l):\n",
    "        Shape.__init__(self)\n",
    "        self.length = l\n",
    "\n",
    "    def area(self):\n",
    "        return self.length*self.length\n",
    "\n",
    "aSquare= Square(3)\n",
    "print(aSquare.area())"
   ]
  },
  {
   "cell_type": "code",
   "execution_count": null,
   "id": "e398065f",
   "metadata": {},
   "outputs": [],
   "source": []
  }
 ],
 "metadata": {
  "kernelspec": {
   "display_name": "Python 3 (ipykernel)",
   "language": "python",
   "name": "python3"
  },
  "language_info": {
   "codemirror_mode": {
    "name": "ipython",
    "version": 3
   },
   "file_extension": ".py",
   "mimetype": "text/x-python",
   "name": "python",
   "nbconvert_exporter": "python",
   "pygments_lexer": "ipython3",
   "version": "3.9.12"
  }
 },
 "nbformat": 4,
 "nbformat_minor": 5
}
