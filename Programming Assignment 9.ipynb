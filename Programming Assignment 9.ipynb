{
 "cells": [
  {
   "cell_type": "code",
   "execution_count": 12,
   "id": "c35ca9f6",
   "metadata": {},
   "outputs": [
    {
     "name": "stdout",
     "output_type": "stream",
     "text": [
      "enter a number89\n",
      "This is a Disarium Number\n"
     ]
    }
   ],
   "source": [
    "# check if the given number is a Disarium Number\n",
    "import math\n",
    "num = int(input(\"enter a number\"))\n",
    "\n",
    "num_list = [int(a) for a in str(num)]\n",
    "sum =0\n",
    "\n",
    "for i in range(len(num_list)):\n",
    "    sum += math.pow(num_list[i], i+1)\n",
    "    \n",
    "if num == sum:\n",
    "    print(\"This is a Disarium Number\")\n",
    "else:\n",
    "    print(\"This is NOT a Disarium Number!\")"
   ]
  },
  {
   "cell_type": "code",
   "execution_count": 13,
   "id": "21bf77a7",
   "metadata": {},
   "outputs": [
    {
     "name": "stdout",
     "output_type": "stream",
     "text": [
      "1\n",
      "2\n",
      "3\n",
      "4\n",
      "5\n",
      "6\n",
      "7\n",
      "8\n",
      "9\n",
      "89\n"
     ]
    }
   ],
   "source": [
    "# all disarium numbers between 1 to 100\n",
    "\n",
    "def check_disarium(num):\n",
    "    num_list = [int(a) for a in str(num)]\n",
    "    sum =0\n",
    "    for i in range(len(num_list)):\n",
    "        sum += math.pow(num_list[i], i+1)\n",
    "    if sum==num:\n",
    "        print(num)\n",
    "        \n",
    "for i in range(1,101):\n",
    "    check_disarium(i)"
   ]
  },
  {
   "cell_type": "code",
   "execution_count": 32,
   "id": "6c4397f0",
   "metadata": {},
   "outputs": [
    {
     "name": "stdout",
     "output_type": "stream",
     "text": [
      "enter a number49\n",
      "This is a Happy Number\n"
     ]
    }
   ],
   "source": [
    "# Happy Number?\n",
    "\n",
    "num = int(input(\"enter a number\"))\n",
    "\n",
    "num_list = [int(a) for a in str(num)]\n",
    "record = [num]\n",
    "temp = 0 \n",
    "n = 0\n",
    "\n",
    "while n != 1:\n",
    "    for i in num_list:\n",
    "        temp += int(math.pow(i,2))\n",
    "    if temp in record:\n",
    "        break\n",
    "    else:\n",
    "        record.append(temp)\n",
    "    \n",
    "    n = temp\n",
    "    num_list = [int(a) for a in str(n)]\n",
    "    temp = 0\n",
    "    \n",
    "    \n",
    "if n==1:\n",
    "    print(\"This is a Happy Number\")\n",
    "else:\n",
    "    print(\"This is NOT a Happy Number.\")\n"
   ]
  },
  {
   "cell_type": "code",
   "execution_count": 36,
   "id": "b861f53b",
   "metadata": {},
   "outputs": [
    {
     "name": "stdout",
     "output_type": "stream",
     "text": [
      "1\n",
      "7\n",
      "10\n",
      "13\n",
      "19\n",
      "23\n",
      "28\n",
      "31\n",
      "32\n",
      "44\n",
      "49\n",
      "68\n",
      "70\n",
      "79\n",
      "82\n",
      "86\n",
      "91\n",
      "94\n",
      "97\n",
      "100\n"
     ]
    }
   ],
   "source": [
    "# All happy numbers between 1 and 100\n",
    "\n",
    "def ishappy(num):\n",
    "    num_list = [int(a) for a in str(num)]\n",
    "    record = []\n",
    "    temp = 0 \n",
    "    n = 0\n",
    "\n",
    "    while n != 1:\n",
    "        for i in num_list:\n",
    "            temp += int(math.pow(i,2))\n",
    "        if temp in record:\n",
    "            break\n",
    "        else:\n",
    "            record.append(temp)\n",
    "    \n",
    "        n = temp\n",
    "        num_list = [int(a) for a in str(n)]\n",
    "        temp = 0\n",
    "    \n",
    "    if n==1:\n",
    "        print(num)\n",
    "    \n",
    "for i in range(1,101):\n",
    "    ishappy(i)"
   ]
  },
  {
   "cell_type": "code",
   "execution_count": 38,
   "id": "10f83c83",
   "metadata": {},
   "outputs": [
    {
     "name": "stdout",
     "output_type": "stream",
     "text": [
      "enter a number156\n",
      "This is a Harshad Number\n"
     ]
    }
   ],
   "source": [
    "# Harshad Number\n",
    "\n",
    "num = int(input(\"enter a number\"))\n",
    "num_list = [int(a) for a in str(num)]\n",
    "sum = 0\n",
    "for i in num_list:\n",
    "    sum += i\n",
    "\n",
    "if num%sum ==0:\n",
    "    print(\"This is a Harshad Number\")\n",
    "else:\n",
    "    print(\"Not Harshad Number\")\n"
   ]
  },
  {
   "cell_type": "code",
   "execution_count": 45,
   "id": "cd17563d",
   "metadata": {},
   "outputs": [
    {
     "name": "stdout",
     "output_type": "stream",
     "text": [
      "0\n",
      "2\n",
      "6\n",
      "12\n",
      "20\n",
      "30\n",
      "42\n",
      "56\n",
      "72\n",
      "90\n"
     ]
    }
   ],
   "source": [
    "# pronic numbers between 1 and 100\n",
    "\n",
    "i = 0\n",
    "num = 0\n",
    "\n",
    "while num <= 100:\n",
    "    num = i * (i+1)\n",
    "    if num <= 100:\n",
    "        print(num)\n",
    "    i += 1\n",
    "\n",
    "    "
   ]
  },
  {
   "cell_type": "code",
   "execution_count": null,
   "id": "0db268a8",
   "metadata": {},
   "outputs": [],
   "source": []
  }
 ],
 "metadata": {
  "kernelspec": {
   "display_name": "Python 3",
   "language": "python",
   "name": "python3"
  },
  "language_info": {
   "codemirror_mode": {
    "name": "ipython",
    "version": 3
   },
   "file_extension": ".py",
   "mimetype": "text/x-python",
   "name": "python",
   "nbconvert_exporter": "python",
   "pygments_lexer": "ipython3",
   "version": "3.8.8"
  }
 },
 "nbformat": 4,
 "nbformat_minor": 5
}
