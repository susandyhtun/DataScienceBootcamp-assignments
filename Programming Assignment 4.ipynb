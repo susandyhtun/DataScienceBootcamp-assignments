{
 "cells": [
  {
   "cell_type": "markdown",
   "id": "d2906e58",
   "metadata": {},
   "source": [
    "## 1. Finding the Factorial of a Number"
   ]
  },
  {
   "cell_type": "code",
   "execution_count": 8,
   "id": "0ce421ad",
   "metadata": {},
   "outputs": [
    {
     "name": "stdout",
     "output_type": "stream",
     "text": [
      "enter a number10\n",
      "Factorial 10 is 3628800\n"
     ]
    }
   ],
   "source": [
    "num = int(input(\"enter a number\"))\n",
    "num_list = []\n",
    "result = 1\n",
    "\n",
    "while num > 0:\n",
    "    num_list.append(num)\n",
    "    num -= 1\n",
    "    \n",
    "for i in num_list:\n",
    "    result *= i\n",
    "\n",
    "print(\"Factorial {} is {}\".format(num_list[0], result))"
   ]
  },
  {
   "cell_type": "markdown",
   "id": "43be1cf3",
   "metadata": {},
   "source": [
    "## 2. Multiplication Table"
   ]
  },
  {
   "cell_type": "code",
   "execution_count": 5,
   "id": "45efa4e9",
   "metadata": {},
   "outputs": [
    {
     "name": "stdout",
     "output_type": "stream",
     "text": [
      "9 x 1 = 9\n",
      "9 x 2 = 18\n",
      "9 x 3 = 27\n",
      "9 x 4 = 36\n",
      "9 x 5 = 45\n",
      "9 x 6 = 54\n",
      "9 x 7 = 63\n",
      "9 x 8 = 72\n",
      "9 x 9 = 81\n",
      "9 x 10 = 90\n",
      "9 x 11 = 99\n",
      "9 x 12 = 108\n"
     ]
    }
   ],
   "source": [
    "\n",
    "def mul_table(x):\n",
    "    for i in range(1, 13):\n",
    "        print(\"{} x {} = {}\".format(x,i,x*i))\n",
    "\n",
    "mul_table(9)"
   ]
  },
  {
   "cell_type": "markdown",
   "id": "c032f581",
   "metadata": {},
   "source": [
    "## 3. Fibonacci Sequence"
   ]
  },
  {
   "cell_type": "code",
   "execution_count": 10,
   "id": "81d0db21",
   "metadata": {},
   "outputs": [
    {
     "name": "stdout",
     "output_type": "stream",
     "text": [
      "How many Fibonacci numbers to print?20\n",
      "0\n",
      "1\n",
      "1\n",
      "2\n",
      "3\n",
      "5\n",
      "8\n",
      "13\n",
      "21\n",
      "34\n",
      "55\n",
      "89\n",
      "144\n",
      "233\n",
      "377\n",
      "610\n",
      "987\n",
      "1597\n",
      "2584\n",
      "4181\n"
     ]
    }
   ],
   "source": [
    "\n",
    "Fib = [0,1]\n",
    "\n",
    "count = int(input(\"How many Fibonacci numbers to print?\"))\n",
    "\n",
    "for i in range(count):\n",
    "    if i == 0 or i==1:\n",
    "        print(i)\n",
    "    else:\n",
    "        x = Fib[i-1]+Fib[i-2]\n",
    "        Fib.append(x)\n",
    "        print(x)"
   ]
  },
  {
   "cell_type": "markdown",
   "id": "c73a1c86",
   "metadata": {},
   "source": [
    "## 4. Checking if a number is Armstrong Number"
   ]
  },
  {
   "cell_type": "code",
   "execution_count": 54,
   "id": "303525dd",
   "metadata": {},
   "outputs": [
    {
     "name": "stdout",
     "output_type": "stream",
     "text": [
      "It's an Armstrong Number\n",
      "It's NOT an Armstrong Number\n",
      "It's an Armstrong Number\n",
      "It's an Armstrong Number\n"
     ]
    }
   ],
   "source": [
    "# Checking Armstrong Number\n",
    "\n",
    "def check_Armstrong(num):\n",
    "    sum = 0\n",
    "    x = [int(a) for a in str(num)]\n",
    "    for i in x:\n",
    "        sum += pow(i,len(x))\n",
    "    if num == sum:\n",
    "        print(\"It's an Armstrong Number\")\n",
    "    else:\n",
    "        print(\"It's NOT an Armstrong Number\")\n",
    "        \n",
    "check_Armstrong(371)\n",
    "check_Armstrong(124)\n",
    "check_Armstrong(153)\n",
    "check_Armstrong(1634)"
   ]
  },
  {
   "cell_type": "markdown",
   "id": "a2544809",
   "metadata": {},
   "source": [
    "## 5. Finding Armstrong number in a given interval"
   ]
  },
  {
   "cell_type": "code",
   "execution_count": 55,
   "id": "d3753ad1",
   "metadata": {},
   "outputs": [
    {
     "name": "stdout",
     "output_type": "stream",
     "text": [
      "Enter the start of the interval1000\n",
      "Enter the end of the interval9999\n",
      "1634\n",
      "8208\n",
      "9474\n"
     ]
    }
   ],
   "source": [
    "\n",
    "start = int(input(\"Enter the start of the interval\"))\n",
    "end = int(input(\"Enter the end of the interval\"))\n",
    "\n",
    "# function for checking Armstrong number\n",
    "def check_Armstrong(num):\n",
    "    sum = 0\n",
    "    x = [int(a) for a in str(num)]\n",
    "    for i in x:\n",
    "        sum += pow(i,len(x))\n",
    "    return True if num == sum else False\n",
    "\n",
    "# to print the Armstrong number in the given interval\n",
    "for i in range(start, end+1):\n",
    "    if check_Armstrong(i):\n",
    "        print(i)\n"
   ]
  },
  {
   "cell_type": "markdown",
   "id": "52e42e1e",
   "metadata": {},
   "source": [
    "## 6. Finding sum of Natural Numbers"
   ]
  },
  {
   "cell_type": "code",
   "execution_count": 62,
   "id": "c1b3d2f3",
   "metadata": {},
   "outputs": [
    {
     "name": "stdout",
     "output_type": "stream",
     "text": [
      "15\n",
      "6\n",
      "1\n"
     ]
    }
   ],
   "source": [
    "\n",
    "def sum_natural(start, end):\n",
    "    sum = 0\n",
    "    for i in range(start, end+1):\n",
    "        if i > 0:\n",
    "            sum += i\n",
    "    print(sum)\n",
    "\n",
    "sum_natural(-1,5)\n",
    "sum_natural(0,3)\n",
    "sum_natural(-3,1)"
   ]
  }
 ],
 "metadata": {
  "kernelspec": {
   "display_name": "Python 3",
   "language": "python",
   "name": "python3"
  },
  "language_info": {
   "codemirror_mode": {
    "name": "ipython",
    "version": 3
   },
   "file_extension": ".py",
   "mimetype": "text/x-python",
   "name": "python",
   "nbconvert_exporter": "python",
   "pygments_lexer": "ipython3",
   "version": "3.8.8"
  }
 },
 "nbformat": 4,
 "nbformat_minor": 5
}
