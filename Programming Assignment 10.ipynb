{
 "cells": [
  {
   "cell_type": "code",
   "execution_count": 1,
   "id": "d8443e4e",
   "metadata": {},
   "outputs": [
    {
     "name": "stdout",
     "output_type": "stream",
     "text": [
      "145\n"
     ]
    }
   ],
   "source": [
    "# 1. sum of elements in list\n",
    "\n",
    "list_a = [-1,2,3,6,0,-100,235]\n",
    "sum = 0\n",
    "\n",
    "for i in list_a:\n",
    "    sum += i\n",
    "\n",
    "print(sum)"
   ]
  },
  {
   "cell_type": "code",
   "execution_count": 2,
   "id": "2da073cb",
   "metadata": {},
   "outputs": [
    {
     "name": "stdout",
     "output_type": "stream",
     "text": [
      "-36\n"
     ]
    }
   ],
   "source": [
    "# 2. Multiply all numbers in the list\n",
    "\n",
    "list_a = [-1,2,3,6]\n",
    "temp = 1\n",
    "\n",
    "for i in list_a:\n",
    "    temp = temp*i\n",
    " \n",
    "print(temp)"
   ]
  },
  {
   "cell_type": "code",
   "execution_count": 4,
   "id": "852272aa",
   "metadata": {},
   "outputs": [
    {
     "name": "stdout",
     "output_type": "stream",
     "text": [
      "The smallest number is -100\n"
     ]
    }
   ],
   "source": [
    "# 3. smallest number in a list\n",
    "\n",
    "list_a = [-1,2,3,6,0,-100,235]\n",
    "temp = list_a[0]\n",
    "\n",
    "for i in list_a:\n",
    "    if i < temp:\n",
    "        temp = i\n",
    "print(\"The smallest number is {}\".format(temp))"
   ]
  },
  {
   "cell_type": "code",
   "execution_count": 5,
   "id": "85079bba",
   "metadata": {},
   "outputs": [
    {
     "name": "stdout",
     "output_type": "stream",
     "text": [
      "The largest number is 235\n"
     ]
    }
   ],
   "source": [
    "# 4. largest number in a list\n",
    "\n",
    "list_a = [-1,2,3,6,0,-100,235]\n",
    "temp = list_a[0]\n",
    "\n",
    "for i in list_a:\n",
    "    if i > temp:\n",
    "        temp = i\n",
    "print(\"The largest number is {}\".format(temp))"
   ]
  },
  {
   "cell_type": "code",
   "execution_count": 6,
   "id": "39ca8349",
   "metadata": {},
   "outputs": [
    {
     "name": "stdout",
     "output_type": "stream",
     "text": [
      "The second largest number is 6\n"
     ]
    }
   ],
   "source": [
    "# 5. second largest number in a list\n",
    "\n",
    "list_a = [-1,2,3,6,0,-100,235]\n",
    "list_a.sort()\n",
    "n = len(list_a)\n",
    "print(\"The second largest number is {}\".format(list_a[n-2]))"
   ]
  },
  {
   "cell_type": "code",
   "execution_count": 10,
   "id": "b65f4ce5",
   "metadata": {},
   "outputs": [
    {
     "name": "stdout",
     "output_type": "stream",
     "text": [
      "N value?5\n",
      "The 5th largest number is 0\n"
     ]
    }
   ],
   "source": [
    "# 6. N largest elements from a list\n",
    "\n",
    "list_a = [-1,2,3,6,0,-100,235]\n",
    "list_a.sort()\n",
    "\n",
    "n = len(list_a)\n",
    "N = int(input(\"N value?\"))\n",
    "        \n",
    "print(\"The {}th largest number is {}\".format(N, list_a[n-N]))"
   ]
  },
  {
   "cell_type": "code",
   "execution_count": 12,
   "id": "efea67c2",
   "metadata": {},
   "outputs": [
    {
     "name": "stdout",
     "output_type": "stream",
     "text": [
      "The even numbers are:\n",
      "2\n",
      "6\n",
      "0\n",
      "-100\n"
     ]
    }
   ],
   "source": [
    "# 7. Even numbers in a list\n",
    "\n",
    "list_a = [-1,2,3,6,0,-100,235]\n",
    "print(\"The even numbers are:\")\n",
    "for i in list_a:\n",
    "    if (i%2==0):\n",
    "        print(i)\n",
    "    "
   ]
  },
  {
   "cell_type": "code",
   "execution_count": 14,
   "id": "92e5d50c",
   "metadata": {},
   "outputs": [
    {
     "name": "stdout",
     "output_type": "stream",
     "text": [
      "The odd numbers are:\n",
      "-1\n",
      "3\n",
      "235\n"
     ]
    }
   ],
   "source": [
    "# 8. odd numbers in a List\n",
    "\n",
    "list_a = [-1,2,3,6,0,-100,235]\n",
    "print(\"The odd numbers are:\")\n",
    "for i in list_a:\n",
    "    if (i%2!=0):\n",
    "        print(i)"
   ]
  },
  {
   "cell_type": "code",
   "execution_count": 15,
   "id": "ea361905",
   "metadata": {},
   "outputs": [
    {
     "name": "stdout",
     "output_type": "stream",
     "text": [
      "[1, 6, 30, 999]\n"
     ]
    }
   ],
   "source": [
    "# 9. Remove empty List from List\n",
    "\n",
    "list_b = [1, 6, [], 30, [], [], 999]\n",
    "\n",
    "revised_list = [i for i in list_b if i!=[]]\n",
    "\n",
    "print(revised_list)"
   ]
  },
  {
   "cell_type": "code",
   "execution_count": 16,
   "id": "73efc5b1",
   "metadata": {},
   "outputs": [
    {
     "name": "stdout",
     "output_type": "stream",
     "text": [
      "The cloned list is:[-1, 2, 3, 6, 0, -100, 235]\n"
     ]
    }
   ],
   "source": [
    "# 10. Cloning or Copying a list\n",
    "\n",
    "list_a = [-1,2,3,6,0,-100,235]\n",
    "list_c = list_a.copy()\n",
    "\n",
    "print(\"The cloned list is:{}\".format(list_c))"
   ]
  },
  {
   "cell_type": "code",
   "execution_count": 18,
   "id": "a4b38cd2",
   "metadata": {},
   "outputs": [
    {
     "name": "stdout",
     "output_type": "stream",
     "text": [
      "8 has occurred 5 times\n"
     ]
    }
   ],
   "source": [
    "# 11. Count occurrences of an element in a list\n",
    "\n",
    "def countX(lista, x):\n",
    "    count = 0\n",
    "    for ele in lista:\n",
    "        if (ele == x):\n",
    "            count = count + 1\n",
    "    return count\n",
    " \n",
    "list_d = [8, 6, 8, 10, 8, 20, 10, 8, 8]\n",
    "x = 8\n",
    "print('{} has occurred {} times'.format(x, countX(list_d, x)))"
   ]
  },
  {
   "cell_type": "code",
   "execution_count": null,
   "id": "fe1ddfc7",
   "metadata": {},
   "outputs": [],
   "source": []
  }
 ],
 "metadata": {
  "kernelspec": {
   "display_name": "Python 3",
   "language": "python",
   "name": "python3"
  },
  "language_info": {
   "codemirror_mode": {
    "name": "ipython",
    "version": 3
   },
   "file_extension": ".py",
   "mimetype": "text/x-python",
   "name": "python",
   "nbconvert_exporter": "python",
   "pygments_lexer": "ipython3",
   "version": "3.8.8"
  }
 },
 "nbformat": 4,
 "nbformat_minor": 5
}
